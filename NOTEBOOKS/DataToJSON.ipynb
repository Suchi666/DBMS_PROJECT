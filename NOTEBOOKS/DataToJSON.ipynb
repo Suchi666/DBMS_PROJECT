{
 "cells": [
  {
   "cell_type": "code",
   "execution_count": 91,
   "id": "8f01e8b3-64ce-4811-9e41-594012f5733a",
   "metadata": {},
   "outputs": [],
   "source": [
    "import pandas as pd\n",
    "import re\n",
    "import json\n",
    "\n",
    "# Define an empty list to store dictionaries representing each item\n",
    "items_list = {}\n",
    "i=1\n",
    "items_list[1]=[]\n",
    "with open('data.txt', 'r') as file:\n",
    "    for line in file:\n",
    "        line = line.strip()# Remove leading/trailing whitespaces\n",
    "        if not line:  # If line is empty, it indicates a new item\n",
    "            i+=1\n",
    "            items_list[i] = []\n",
    "        else:\n",
    "            items_list[i].append(line)"
   ]
  },
  {
   "cell_type": "code",
   "execution_count": 89,
   "id": "e6394357-9e29-41ec-a9b2-38a46fbb8fbd",
   "metadata": {},
   "outputs": [],
   "source": [
    "# items_list"
   ]
  },
  {
   "cell_type": "code",
   "execution_count": 44,
   "id": "725f1674-f886-4589-bca3-2bea4a0f7199",
   "metadata": {},
   "outputs": [],
   "source": [
    "book=['Id:   1',\n",
    "  'ASIN: 0827229534',\n",
    "  'title: Patterns of Preaching: A Sermon Sampler',\n",
    "  'group: Book',\n",
    "  'salesrank: 396585',\n",
    "  'similar: 5  0804215715  156101074X  0687023955  0687074231  082721619X',\n",
    "  'categories: 2',\n",
    "  '|Books[283155]|Subjects[1000]|Religion & Spirituality[22]|Christianity[12290]|Clergy[12360]|Preaching[12368]',\n",
    "  '|Books[283155]|Subjects[1000]|Religion & Spirituality[22]|Christianity[12290]|Clergy[12360]|Sermons[12370]',\n",
    "  'reviews: total: 2  downloaded: 2  avg rating: 5',\n",
    "  '2000-7-28  cutomer: A2JW67OY8U6HHK  rating: 5  votes:  10  helpful:   9',\n",
    "  '2003-12-14  cutomer: A2VE83MZF98ITY  rating: 5  votes:   6  helpful:   5']"
   ]
  },
  {
   "cell_type": "code",
   "execution_count": 92,
   "id": "6884adf8-35aa-43a4-a365-ca475c60d047",
   "metadata": {},
   "outputs": [],
   "source": [
    "pattern = r'^[a-zA-Z]+:.*$'\n",
    "date_rx = r'^\\d{4}-(?:\\d{1}|\\d{2})-(?:\\d{1}|\\d{2})'\n",
    "pattern1 = r'(\\w+): (\\d+)'\n",
    "new_list={}\n",
    "id=0\n",
    "for Id, book in items_list.items():\n",
    "    dict={}\n",
    "    for line in book:\n",
    "        if re.match(pattern, line):\n",
    "            key, value = line.split(\":\", 1)\n",
    "            value = value.strip()\n",
    "            # print(\"key-\",key,\" value-\",value)\n",
    "            dict[key]=value\n",
    "            if key==\"Id\":\n",
    "                id=int(value)\n",
    "            if key=='categories':\n",
    "                dict[key]=[]\n",
    "            if key=='similar':\n",
    "                arr=line.split()\n",
    "                dict['similar']=arr[1:].copy()\n",
    "            if key==\"reviews\":\n",
    "                dict['reviews']={}\n",
    "                matches = re.findall(pattern1, value)\n",
    "                for match in matches:\n",
    "                    k_, v_ = match\n",
    "                    dict['reviews'][k_]=v_\n",
    "                dict['reviews']['individual_reviews']=[]\n",
    "                \n",
    "        elif re.match(date_rx, line):\n",
    "            dct={}\n",
    "            arr=line.split()\n",
    "            dct['date']=arr[0]\n",
    "            dct['customer']=arr[2]\n",
    "            dct['rating']=int(arr[4])\n",
    "            dct['votes']=int(arr[6])\n",
    "            dct['helpful']=int(arr[8])\n",
    "            dict['reviews']['individual_reviews'].append(dct)\n",
    "        else:\n",
    "            dict['categories'].append(line)\n",
    "            \n",
    "    new_list[id]=dict\n",
    "    # else:\n",
    "    #     print(f\"Not matched: {line}\")\n",
    " "
   ]
  },
  {
   "cell_type": "code",
   "execution_count": 93,
   "id": "350e8c64-c43f-4a22-be4d-4641dfc769ae",
   "metadata": {},
   "outputs": [
    {
     "data": {
      "text/plain": [
       "{'Id': '1',\n",
       " 'ASIN': '0827229534',\n",
       " 'title': 'Patterns of Preaching: A Sermon Sampler',\n",
       " 'group': 'Book',\n",
       " 'salesrank': '396585',\n",
       " 'similar': ['5',\n",
       "  '0804215715',\n",
       "  '156101074X',\n",
       "  '0687023955',\n",
       "  '0687074231',\n",
       "  '082721619X'],\n",
       " 'categories': ['|Books[283155]|Subjects[1000]|Religion & Spirituality[22]|Christianity[12290]|Clergy[12360]|Preaching[12368]',\n",
       "  '|Books[283155]|Subjects[1000]|Religion & Spirituality[22]|Christianity[12290]|Clergy[12360]|Sermons[12370]'],\n",
       " 'reviews': {'total': '2',\n",
       "  'downloaded': '2',\n",
       "  'rating': '5',\n",
       "  'individual_reviews': [{'date': '2000-7-28',\n",
       "    'customer': 'A2JW67OY8U6HHK',\n",
       "    'rating': 5,\n",
       "    'votes': 10,\n",
       "    'helpful': 9},\n",
       "   {'date': '2003-12-14',\n",
       "    'customer': 'A2VE83MZF98ITY',\n",
       "    'rating': 5,\n",
       "    'votes': 6,\n",
       "    'helpful': 5}]}}"
      ]
     },
     "execution_count": 93,
     "metadata": {},
     "output_type": "execute_result"
    }
   ],
   "source": [
    "new_list[1]"
   ]
  },
  {
   "cell_type": "code",
   "execution_count": 69,
   "id": "208e8946-4946-4b82-b67e-86c9ea3a24e9",
   "metadata": {},
   "outputs": [],
   "source": [
    "date_rx = r'^\\d{4}-(?:\\d{1}|\\d{2})-(?:\\d{1}|\\d{2})'\n",
    "reviews=['2002-1-7  cutomer:  A9CQ3PLRNIR83  rating: 4  votes:   5  helpful:   5',\n",
    "   '2002-1-24  cutomer: A13SG9ACZ9O5IM  rating: 5  votes:   8  helpful:   8',\n",
    "   '2002-1-28  cutomer: A1BDAI6VEYMAZA  rating: 5  votes:   4  helpful:   4',\n",
    "   '2002-2-6  cutomer: A2P6KAWXJ16234  rating: 4  votes:  16  helpful:  16',\n",
    "   '2002-2-14  cutomer:  AMACWC3M7PQFR  rating: 4  votes:   5  helpful:   5',\n",
    "   '2002-3-23  cutomer: A3GO7UV9XX14D8  rating: 4  votes:   6  helpful:   6']\n",
    "# rx = re.compile(date_rx, re.I)\n",
    "review_list=[]\n",
    "for item in reviews:\n",
    "    # match = rx.findall(item)\n",
    "    dct={}\n",
    "    arr=item.split()\n",
    "    dct['date']=arr[0]\n",
    "    dct['customer']=arr[2]\n",
    "    dct['rating']=int(arr[4])\n",
    "    dct['votes']=int(arr[6])\n",
    "    dct['helpful']=int(arr[8])\n",
    "    review_list.append(dct)"
   ]
  },
  {
   "cell_type": "code",
   "execution_count": 85,
   "id": "7b002b71-5813-46aa-838e-b5033a1012e6",
   "metadata": {},
   "outputs": [
    {
     "name": "stdout",
     "output_type": "stream",
     "text": [
      "0738700827\n"
     ]
    }
   ],
   "source": [
    "similar= '5  0738700827  1567184960  1567182836  0738700525  0738700940'\n",
    "arr=similar.split()\n",
    "arr=arr[1:]\n",
    "print(arr[0])"
   ]
  },
  {
   "cell_type": "code",
   "execution_count": 95,
   "id": "0aca74ea-d55e-4ac6-9cde-1246193290f7",
   "metadata": {},
   "outputs": [],
   "source": [
    "file_path = \"data.json\"\n",
    "with open(file_path, \"w\") as json_file:\n",
    "    json.dump(new_list, json_file)"
   ]
  },
  {
   "cell_type": "code",
   "execution_count": null,
   "id": "68ac7bc0-e99b-4202-9f64-5b75172e582a",
   "metadata": {},
   "outputs": [],
   "source": []
  }
 ],
 "metadata": {
  "kernelspec": {
   "display_name": "Python 3 (ipykernel)",
   "language": "python",
   "name": "python3"
  },
  "language_info": {
   "codemirror_mode": {
    "name": "ipython",
    "version": 3
   },
   "file_extension": ".py",
   "mimetype": "text/x-python",
   "name": "python",
   "nbconvert_exporter": "python",
   "pygments_lexer": "ipython3",
   "version": "3.10.12"
  }
 },
 "nbformat": 4,
 "nbformat_minor": 5
}
