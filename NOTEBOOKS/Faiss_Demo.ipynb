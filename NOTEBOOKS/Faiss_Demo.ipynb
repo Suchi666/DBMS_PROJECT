{
 "cells": [
  {
   "cell_type": "code",
   "execution_count": 3,
   "id": "3e0546de-dad6-409a-b540-e3e3a1c36554",
   "metadata": {},
   "outputs": [],
   "source": [
    "import json\n",
    "import numpy as np\n",
    "import faiss\n",
    "import os\n"
   ]
  },
  {
   "cell_type": "code",
   "execution_count": 4,
   "id": "9b584c44-3bc1-49cd-9fbd-6ca679dc961b",
   "metadata": {},
   "outputs": [],
   "source": [
    "file_path = '../Data/data.json'\n",
    "with open(file_path, 'r') as json_file:\n",
    "    data = json.load(json_file)"
   ]
  },
  {
   "cell_type": "code",
   "execution_count": 5,
   "id": "bb64adee-b5a3-4c3c-8c9e-ded1012cfe48",
   "metadata": {},
   "outputs": [],
   "source": [
    "from sentence_transformers import SentenceTransformer\n",
    "model = SentenceTransformer('distilbert-base-nli-mean-tokens')"
   ]
  },
  {
   "cell_type": "code",
   "execution_count": 62,
   "id": "6cc75578-d2e7-49ce-9038-30718eef8a4c",
   "metadata": {},
   "outputs": [],
   "source": [
    "Emb_dir=\"../Data/Embeddings\"\n",
    "titles=[]\n",
    "for Id,product in data.items():\n",
    "    # print(Id,\"->\",product['title'])\n",
    "    # Encode titles into embeddings\n",
    "    titles.append(product['title'])\n",
    "    title_embedding = model.encode(product['title'])\n",
    "    embeddings = np.array(title_embedding)  # Your embeddings here\n",
    "    # Save embeddings to a .npy file\n",
    "    np.save(f'../Data/Embeddings/emb{Id}.npy', embeddings)"
   ]
  },
  {
   "cell_type": "code",
   "execution_count": 63,
   "id": "93ee7050-041f-4b2b-989b-b6205d57dccc",
   "metadata": {},
   "outputs": [],
   "source": [
    "file_names = os.listdir(Emb_dir)\n",
    "sorted_file_names = sorted(file_names, key=lambda x: int(x[3:-4]))\n",
    "saved_embeddings_path=[]\n",
    "for file in sorted_file_names:\n",
    "    path=os.path.join(Emb_dir,file)\n",
    "    saved_embeddings_path.append(path)"
   ]
  },
  {
   "cell_type": "code",
   "execution_count": 66,
   "id": "f8c2a3a1-44b1-48dc-884e-049b1b4b7a61",
   "metadata": {},
   "outputs": [],
   "source": [
    "# saved_embeddings_path\n",
    "# titles"
   ]
  },
  {
   "cell_type": "code",
   "execution_count": 61,
   "id": "dbc50fd3-2b56-483b-a888-b0bb1327165f",
   "metadata": {},
   "outputs": [],
   "source": [
    "all_embeddings = []\n",
    "# Iterate through each file path\n",
    "for file_path in saved_embeddings_path:\n",
    "    # Open the file in binary mode\n",
    "    with open(file_path, 'rb') as fp:\n",
    "        # Load the embeddings from the file\n",
    "        embeddings = np.load(fp)\n",
    "        # Append the loaded embeddings to the list\n",
    "        all_embeddings.append(embeddings)\n",
    "\n",
    "# Concatenate all embeddings in the list along the first axis to form a single array\n",
    "sentence_embeddings = np.array(all_embeddings)\n",
    "# sentence_embeddings.shape"
   ]
  },
  {
   "cell_type": "code",
   "execution_count": 82,
   "id": "648a2e2c-1a65-4a56-9917-f5d9769eb0ee",
   "metadata": {},
   "outputs": [
    {
     "data": {
      "text/plain": [
       "78"
      ]
     },
     "execution_count": 82,
     "metadata": {},
     "output_type": "execute_result"
    }
   ],
   "source": [
    "#titles --> sentences\n",
    "#embeddings --> sentence_embeddings\n",
    "d=sentence_embeddings.shape[1]\n",
    "index = faiss.IndexFlatL2(d)  # L2 distance is used for similarity search\n",
    "index.is_trained\n",
    "index.add(sentence_embeddings)\n",
    "index.ntotal"
   ]
  },
  {
   "cell_type": "code",
   "execution_count": 72,
   "id": "e6dc499f-6d9e-4efc-b8cd-6d42c6905660",
   "metadata": {},
   "outputs": [
    {
     "data": {
      "text/plain": [
       "['Patterns of Preaching: A Sermon Sampler',\n",
       " 'Candlemas: Feast of Flames',\n",
       " 'World War II Allied Fighter Planes Trading Cards',\n",
       " 'Life Application Bible Commentary: 1 and 2 Timothy and Titus',\n",
       " 'Prayers That Avail Much for Business: Executive',\n",
       " 'How the Other Half Lives: Studies Among the Tenements of New York',\n",
       " 'Batik',\n",
       " 'Losing Matt Shepard',\n",
       " 'Making Bread: The Taste of Traditional Home-Baking',\n",
       " 'The Edward Said Reader',\n",
       " 'Resetting the Clock : Five Anti-Aging Hormones That Improve and Extend Life',\n",
       " 'Fantastic Food with Splenda : 160 Great Recipes for Meals Low in Sugar, Carbohydrates, Fat, and Calories',\n",
       " 'Clockwork Worlds : Mechanized Environments in SF (Contributions to the Study of Science Fiction and Fantasy)',\n",
       " 'Later...',\n",
       " 'Wake Up and Smell the Coffee',\n",
       " 'War at Sea: A Naval History of World War II',\n",
       " 'Telecommunications Cost Management',\n",
       " 'Sol to Soul',\n",
       " 'Ultimate Marvel Team-Up',\n",
       " 'Computed Tomography : Fundamentals, System Technology, Image Quality, Applications',\n",
       " 'Come What May',\n",
       " 'Strange Fire: A Novel',\n",
       " 'The Casebook of Sherlock Holmes, Volume 2 (Casebook of Sherlock Holmes)',\n",
       " 'Jailed for Freedom: American Women Win the Vote',\n",
       " 'Chicken Little',\n",
       " 'The Columbia Anthology of Gay Literature',\n",
       " \"God Knows Marriage Isn't Always Easy: 12 Ways to Add Zest (God Knows)\",\n",
       " 'Advanced Pediatric Clinical Assessment: Skills and Procedures',\n",
       " 'Solving Statics Problems with MathCAD',\n",
       " 'Backroad Buffets & Country Cafes: A Southern Guide to Meat-And-Threes & Down-Home Dining',\n",
       " 'Staff Meals from Chanterelle',\n",
       " 'Double Jeopardy (T*Witches, 6)',\n",
       " 'Southern By the Grace of God: Lynyrd Skynyrd Tribute Tour, Vol. 1',\n",
       " 'Burnt Toast on Davenport Street',\n",
       " 'Uists & Barra (Pevensey Island guides)',\n",
       " 'Mark Messier - Leader, Champion & Legend',\n",
       " 'Resolving Conflicts At Work : A Complete Guide for Everyone on the Job',\n",
       " 'Night of Many Dreams : A Novel',\n",
       " 'Renovations: A Father and Son Rebuild a House and Rediscover Each Other',\n",
       " 'Workbook: The Long-Term Care Nursing Assistant',\n",
       " 'Pixote',\n",
       " 'Selected Poems (Dover Thrift Editions)',\n",
       " \"The NBA's 100 Greatest Plays\",\n",
       " 'Beginning ASP.NET Databases using C#',\n",
       " \"Alternative Worlds in Fantasy Fiction (Contemporary Classics of Children's Literature)\",\n",
       " 'How to Kill a Monster (Goosebumps)',\n",
       " 'Scooby-doo Mysteries #24 (Scooby-Doo Mysteries)',\n",
       " 'Murder She Wrote',\n",
       " 'Still Life',\n",
       " 'Out on the Edge: A Wake-Up Call for Church Leaders on the Edge of the Media Reformation',\n",
       " \"Secrets of Gypsy Love Magick (Llewellyn's New Age Series)\",\n",
       " 'Baby Boomer Retirement: 65 Simple Ways to Protect Your Future',\n",
       " 'Betsy & Tacy Go over the Big Hill (Betsy and Tacy Books)',\n",
       " 'Goldilocks and the Three Bears : Full-Color Picture Book (Dover Little Activity Books)',\n",
       " 'Three Bricks Shy of a Load: A Collection of True Stories About Ordinary People Doing Really Dumb Stuff!',\n",
       " 'Investigating Computer Crime: A Primer for Security Managers',\n",
       " 'Raptors of the Rockies: Biology of the Birds of Prey and Species Accounts of the Raptors of the Rockies',\n",
       " 'None But the Lonely Heart',\n",
       " 'Renaissance Music: Music in Western Europe, 1400-1600 (Norton Introduction to Music History)',\n",
       " 'Hermanos (Hablemos)',\n",
       " 'Scoring High on the Stanford Achievement Test',\n",
       " 'Historia De Cancer De Una Dietista : Informacion & Inspiracion para la Recuperacion & Curacion Sobreviviente de tres canceres',\n",
       " 'A Charlie Brown Christmas',\n",
       " 'Economics for Business',\n",
       " 'Blood and Guts: A Short History of Medicine',\n",
       " 'Picture Me With My Friend Jesus: Girl Version (Picture Me)',\n",
       " 'Experiencing and the Creation of Meaning: A Philosophical and Psychological Approach to the Subjective (Studies in Phenomenology and Existential Philosophy)',\n",
       " 'Negotiated Empires: Centers and Peripheries in the New World, 1500-1820',\n",
       " 'Geographies of Young People: The Morally Contested Spaces of Identity (Critical Geographies)',\n",
       " 'Jonny Quest - Bandit in Adventures Best Friend',\n",
       " 'Power of Flowers: An Archetypal Journey Through Nature',\n",
       " 'The Perfect Plan (7th Heaven)',\n",
       " 'Service Delivery (It Infrastructure Library Series)',\n",
       " 'Disney A to Z : The Updated Official Encyclopedia (Disney a to Z)',\n",
       " \"The Writer's Legal Guide (2nd ed)\",\n",
       " 'Water Touching Stone',\n",
       " 'The Ebony Cookbook: A Date With a Dish',\n",
       " \"Today's Military Wife: Meeting the Challenges of Service Life (Today's Military Wife)\"]"
      ]
     },
     "execution_count": 72,
     "metadata": {},
     "output_type": "execute_result"
    }
   ],
   "source": [
    "titles"
   ]
  },
  {
   "cell_type": "code",
   "execution_count": 83,
   "id": "ae60c91b-ce93-45e8-9108-f45757d9c5b3",
   "metadata": {},
   "outputs": [],
   "source": [
    "query_emb=model.encode(['Music in Western Europe, 1400-1600 (Norton Introduction to Music Hist'])\n",
    "k=3"
   ]
  },
  {
   "cell_type": "code",
   "execution_count": 98,
   "id": "5b155214-c1c3-496f-ac1b-450c175b14af",
   "metadata": {},
   "outputs": [
    {
     "name": "stdout",
     "output_type": "stream",
     "text": [
      "[[58 67 50]]\n"
     ]
    }
   ],
   "source": [
    "# %%time\n",
    "D,I=index.search(query_emb,3)\n",
    "print(I)"
   ]
  },
  {
   "cell_type": "code",
   "execution_count": 99,
   "id": "da00fa8d-8d1a-4ab1-9747-532608299954",
   "metadata": {},
   "outputs": [
    {
     "data": {
      "text/plain": [
       "\"Secrets of Gypsy Love Magick (Llewellyn's New Age Series)\""
      ]
     },
     "execution_count": 99,
     "metadata": {},
     "output_type": "execute_result"
    }
   ],
   "source": [
    "titles[50]"
   ]
  },
  {
   "cell_type": "code",
   "execution_count": 100,
   "id": "a1340e56-a943-49f4-8a34-2d477feaa940",
   "metadata": {},
   "outputs": [
    {
     "name": "stdout",
     "output_type": "stream",
     "text": [
      "58:Renaissance Music: Music in Western Europe, 1400-1600 (Norton Introduction to Music History)\n",
      "67:Negotiated Empires: Centers and Peripheries in the New World, 1500-1820\n",
      "50:Secrets of Gypsy Love Magick (Llewellyn's New Age Series)\n"
     ]
    }
   ],
   "source": [
    "output=[f'{i}:{titles[i]}'for i in I[0]].copy()\n",
    "for i in output:\n",
    "    print(i)"
   ]
  },
  {
   "cell_type": "code",
   "execution_count": null,
   "id": "9779d32a-6b82-472f-8185-ca073ef0b10a",
   "metadata": {},
   "outputs": [],
   "source": []
  }
 ],
 "metadata": {
  "kernelspec": {
   "display_name": "env",
   "language": "python",
   "name": "python3"
  },
  "language_info": {
   "codemirror_mode": {
    "name": "ipython",
    "version": 3
   },
   "file_extension": ".py",
   "mimetype": "text/x-python",
   "name": "python",
   "nbconvert_exporter": "python",
   "pygments_lexer": "ipython3",
   "version": "3.11.5"
  }
 },
 "nbformat": 4,
 "nbformat_minor": 5
}
