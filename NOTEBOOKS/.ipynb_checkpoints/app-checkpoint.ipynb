{
  "cells": [
    {
      "cell_type": "code",
      "execution_count": 9,
      "metadata": {
        "colab": {
          "base_uri": "https://localhost:8080/"
        },
        "id": "IstWWPMsbFMl",
        "outputId": "8d4d665b-52f4-4c4d-b4d9-f11a97cbd7e9"
      },
      "outputs": [
        {
          "name": "stdout",
          "output_type": "stream",
          "text": [
            "Requirement already satisfied: neo4j in /usr/local/lib/python3.10/dist-packages (5.18.0)\n",
            "Requirement already satisfied: pytz in /usr/local/lib/python3.10/dist-packages (from neo4j) (2023.4)\n"
          ]
        }
      ],
      "source": [
        "#!pip install neo4j                                # uncomment the pip commands if running in google colab\n",
        "#!pip install python-dotenv\n",
        "\n",
        "from neo4j import GraphDatabase\n",
        "import dotenv\n",
        "import os\n",
        "import numpy as np\n",
        "import pandas as pd"
      ]
    },
    {
      "cell_type": "markdown",
      "metadata": {},
      "source": [
        "###  Ensure that data url is neo4j+ssc and not neo4j+s as it gives error. Replace URI with your URI and upload config file of neo4j in Data folder"
      ]
    },
    {
      "cell_type": "code",
      "execution_count": 10,
      "metadata": {
        "colab": {
          "base_uri": "https://localhost:8080/"
        },
        "id": "HnhoELpdbFMn",
        "outputId": "21451ef7-2eab-48c3-c133-66287b22a9f9"
      },
      "outputs": [
        {
          "name": "stdout",
          "output_type": "stream",
          "text": [
            "Requirement already satisfied: python-dotenv in /usr/local/lib/python3.10/dist-packages (1.0.1)\n",
            "neo4j+ssc://71bfe867.databases.neo4j.io ('neo4j', '4gq3gmEVzj_dfp5ihwePYByBoj22fqrY7aJhrEPJ9cQ')\n"
          ]
        }
      ],
      "source": [
        "load_status = dotenv.load_dotenv(\"../Data/Neo4j-71bfe867-Created-2024-03-27.txt\")       # replace by your neo4j AuraDB credential txt file\n",
        "if load_status is False:\n",
        "    raise RuntimeError('Environment variables not loaded.')\n",
        "\n",
        "URI =  \"neo4j+ssc://71bfe867.databases.neo4j.io\"            #here use neo4j+ssc\n",
        "AUTH = (os.getenv(\"NEO4J_USERNAME\"), os.getenv(\"NEO4J_PASSWORD\"))\n",
        "print(URI,AUTH)\n",
        "with GraphDatabase.driver(URI, auth=AUTH) as driver:\n",
        "    driver.verify_connectivity()"
      ]
    },
    {
      "cell_type": "markdown",
      "metadata": {},
      "source": [
        "#### Dummy cypher query. Works only if neo4j DB already initialized\n"
      ]
    },
    {
      "cell_type": "code",
      "execution_count": 11,
      "metadata": {
        "colab": {
          "base_uri": "https://localhost:8080/"
        },
        "id": "1pbaMfdBbFMp",
        "outputId": "eeaa9b7d-a1bf-46fc-df2d-002339a9d7dd"
      },
      "outputs": [
        {
          "name": "stderr",
          "output_type": "stream",
          "text": [
            "<ipython-input-11-83817907dfc2>:2: DeprecationWarning: Using a driver after it has been closed is deprecated. Future versions of the driver will raise an error.\n",
            "  summary=driver.execute_query(query)\n"
          ]
        },
        {
          "data": {
            "text/plain": [
              "EagerResult(records=[<Record n=<Node element_id='4:6380264d-7352-4e5c-8881-c089509078c6:0' labels=frozenset({'Product'}) properties={'review_cnt': 2, 'downloads': 2, 'rating': 5.0, 'id': 1, 'title': 'Patterns of Preaching: A Sermon Sampler', 'salesrank': 396585, 'group': 'Book'}>>, <Record n=<Node element_id='4:6380264d-7352-4e5c-8881-c089509078c6:1' labels=frozenset({'Product'}) properties={'review_cnt': 12, 'downloads': 12, 'rating': 4.5, 'id': 2, 'title': 'Candlemas: Feast of Flames', 'salesrank': 168596, 'group': 'Book'}>>, <Record n=<Node element_id='4:6380264d-7352-4e5c-8881-c089509078c6:2' labels=frozenset({'Product'}) properties={'review_cnt': 1, 'downloads': 1, 'rating': 5.0, 'id': 3, 'title': 'World War II Allied Fighter Planes Trading Cards', 'salesrank': 1270652, 'group': 'Book'}>>, <Record n=<Node element_id='4:6380264d-7352-4e5c-8881-c089509078c6:3' labels=frozenset({'Product'}) properties={'review_cnt': 1, 'downloads': 1, 'rating': 4.0, 'id': 4, 'title': 'Life Application Bible Commentary: 1 and 2 Timothy and Titus', 'salesrank': 631289, 'group': 'Book'}>>, <Record n=<Node element_id='4:6380264d-7352-4e5c-8881-c089509078c6:4' labels=frozenset({'Product'}) properties={'review_cnt': 0, 'downloads': 0, 'rating': 0.0, 'id': 5, 'title': 'Prayers That Avail Much for Business: Executive', 'salesrank': 455160, 'group': 'Book'}>>, <Record n=<Node element_id='4:6380264d-7352-4e5c-8881-c089509078c6:5' labels=frozenset({'Product'}) properties={'review_cnt': 17, 'downloads': 17, 'rating': 4.0, 'id': 6, 'title': 'How the Other Half Lives: Studies Among the Tenements of New York', 'salesrank': 188784, 'group': 'Book'}>>, <Record n=<Node element_id='4:6380264d-7352-4e5c-8881-c089509078c6:6' labels=frozenset({'Product'}) properties={'review_cnt': 3, 'downloads': 3, 'rating': 4.5, 'id': 7, 'title': 'Batik', 'salesrank': 5392, 'group': 'Music'}>>, <Record n=<Node element_id='4:6380264d-7352-4e5c-8881-c089509078c6:7' labels=frozenset({'Product'}) properties={'review_cnt': 15, 'downloads': 15, 'rating': 4.5, 'id': 8, 'title': 'Losing Matt Shepard', 'salesrank': 277409, 'group': 'Book'}>>, <Record n=<Node element_id='4:6380264d-7352-4e5c-8881-c089509078c6:8' labels=frozenset({'Product'}) properties={'review_cnt': 0, 'downloads': 0, 'rating': 0.0, 'id': 9, 'title': 'Making Bread: The Taste of Traditional Home-Baking', 'salesrank': 949166, 'group': 'Book'}>>, <Record n=<Node element_id='4:6380264d-7352-4e5c-8881-c089509078c6:9' labels=frozenset({'Product'}) properties={'review_cnt': 6, 'downloads': 6, 'rating': 4.0, 'id': 10, 'title': 'The Edward Said Reader', 'salesrank': 220379, 'group': 'Book'}>>, <Record n=<Node element_id='4:6380264d-7352-4e5c-8881-c089509078c6:10' labels=frozenset({'Product'}) properties={'review_cnt': 1, 'downloads': 1, 'rating': 5.0, 'id': 11, 'title': 'Resetting the Clock : Five Anti-Aging Hormones That Improve and Extend Life', 'salesrank': 412962, 'group': 'Book'}>>, <Record n=<Node element_id='4:6380264d-7352-4e5c-8881-c089509078c6:11' labels=frozenset({'Product'}) properties={'review_cnt': 12, 'downloads': 12, 'rating': 4.5, 'id': 12, 'title': 'Fantastic Food with Splenda : 160 Great Recipes for Meals Low in Sugar, Carbohydrates, Fat, and Calories', 'salesrank': 24741, 'group': 'Book'}>>, <Record n=<Node element_id='4:6380264d-7352-4e5c-8881-c089509078c6:12' labels=frozenset({'Product'}) properties={'review_cnt': 0, 'downloads': 0, 'rating': 0.0, 'id': 13, 'title': 'Clockwork Worlds : Mechanized Environments in SF (Contributions to the Study of Science Fiction and Fantasy)', 'salesrank': 2895088, 'group': 'Book'}>>, <Record n=<Node element_id='4:6380264d-7352-4e5c-8881-c089509078c6:13' labels=frozenset({'Product'}) properties={'review_cnt': 0, 'downloads': 0, 'rating': 0.0, 'id': 14, 'title': 'Later...', 'salesrank': 390624, 'group': 'Music'}>>, <Record n=<Node element_id='4:6380264d-7352-4e5c-8881-c089509078c6:14' labels=frozenset({'Product'}) properties={'review_cnt': 8, 'downloads': 8, 'rating': 4.0, 'id': 15, 'title': 'Wake Up and Smell the Coffee', 'salesrank': 518927, 'group': 'Book'}>>, <Record n=<Node element_id='4:6380264d-7352-4e5c-8881-c089509078c6:15' labels=frozenset({'Product'}) properties={'review_cnt': 10, 'downloads': 10, 'rating': 4.5, 'id': 16, 'title': 'War at Sea: A Naval History of World War II', 'salesrank': 631564, 'group': 'Book'}>>, <Record n=<Node element_id='4:6380264d-7352-4e5c-8881-c089509078c6:16' labels=frozenset({'Product'}) properties={'review_cnt': 3, 'downloads': 3, 'rating': 3.5, 'id': 17, 'title': 'Telecommunications Cost Management', 'salesrank': 570183, 'group': 'Book'}>>, <Record n=<Node element_id='4:6380264d-7352-4e5c-8881-c089509078c6:17' labels=frozenset({'Product'}) properties={'review_cnt': 15, 'downloads': 15, 'rating': 5.0, 'id': 18, 'title': 'Sol to Soul', 'salesrank': 109301, 'group': 'Music'}>>, <Record n=<Node element_id='4:6380264d-7352-4e5c-8881-c089509078c6:18' labels=frozenset({'Product'}) properties={'review_cnt': 8, 'downloads': 8, 'rating': 3.5, 'id': 19, 'title': 'Ultimate Marvel Team-Up', 'salesrank': 612475, 'group': 'Book'}>>, <Record n=<Node element_id='4:6380264d-7352-4e5c-8881-c089509078c6:19' labels=frozenset({'Product'}) properties={'review_cnt': 1, 'downloads': 1, 'rating': 5.0, 'id': 20, 'title': 'Computed Tomography : Fundamentals, System Technology, Image Quality, Applications', 'salesrank': 179448, 'group': 'Book'}>>, <Record n=<Node element_id='4:6380264d-7352-4e5c-8881-c089509078c6:20' labels=frozenset({'Product'}) properties={'review_cnt': 140, 'downloads': 140, 'rating': 4.5, 'id': 21, 'title': 'The Time Machine', 'salesrank': 795, 'group': 'DVD'}>>, <Record n=<Node element_id='4:6380264d-7352-4e5c-8881-c089509078c6:21' labels=frozenset({'Product'}) properties={'review_cnt': 4, 'downloads': 4, 'rating': 4.5, 'id': 22, 'title': 'Come What May', 'salesrank': 83369, 'group': 'Music'}>>, <Record n=<Node element_id='4:6380264d-7352-4e5c-8881-c089509078c6:22' labels=frozenset({'Product'}) properties={'review_cnt': 3, 'downloads': 3, 'rating': 3.0, 'id': 23, 'title': 'Strange Fire: A Novel', 'salesrank': 1277867, 'group': 'Book'}>>, <Record n=<Node element_id='4:6380264d-7352-4e5c-8881-c089509078c6:23' labels=frozenset({'Product'}) properties={'review_cnt': 2, 'downloads': 2, 'rating': 4.5, 'id': 24, 'title': 'The Casebook of Sherlock Holmes, Volume 2 (Casebook of Sherlock Holmes)', 'salesrank': 1545277, 'group': 'Book'}>>, <Record n=<Node element_id='4:6380264d-7352-4e5c-8881-c089509078c6:24' labels=frozenset({'Product'}) properties={'review_cnt': 2, 'downloads': 2, 'rating': 3.5, 'id': 25, 'title': 'Jailed for Freedom: American Women Win the Vote', 'salesrank': 326756, 'group': 'Book'}>>], summary=<neo4j._work.summary.ResultSummary object at 0x7d39cfa2f490>, keys=['n'])"
            ]
          },
          "execution_count": 11,
          "metadata": {},
          "output_type": "execute_result"
        }
      ],
      "source": [
        "query=\"MATCH (n:Product) RETURN n LIMIT 25;\"            # dummy query to show that it is connected to database\n",
        "summary=driver.execute_query(query)\n",
        "summary"
      ]
    },
    {
      "cell_type": "code",
      "execution_count": 24,
      "metadata": {
        "id": "n39kuQPxbFMp"
      },
      "outputs": [],
      "source": [
        "products = pd.read_csv('../Data/products.csv')\n",
        "copurchase = pd.read_csv('../Data/copurchase.csv')"
      ]
    },
    {
      "cell_type": "code",
      "execution_count": 25,
      "metadata": {
        "colab": {
          "base_uri": "https://localhost:8080/",
          "height": 345
        },
        "id": "aWkdjLxsbFMq",
        "outputId": "843a797b-50cc-45b5-86e5-26e49e357e45"
      },
      "outputs": [
        {
          "data": {
            "application/vnd.google.colaboratory.intrinsic+json": {
              "type": "dataframe",
              "variable_name": "products"
            },
            "text/html": [
              "\n",
              "  <div id=\"df-48cdd597-01e9-4a6b-821a-028bc58caec3\" class=\"colab-df-container\">\n",
              "    <div>\n",
              "<style scoped>\n",
              "    .dataframe tbody tr th:only-of-type {\n",
              "        vertical-align: middle;\n",
              "    }\n",
              "\n",
              "    .dataframe tbody tr th {\n",
              "        vertical-align: top;\n",
              "    }\n",
              "\n",
              "    .dataframe thead th {\n",
              "        text-align: right;\n",
              "    }\n",
              "</style>\n",
              "<table border=\"1\" class=\"dataframe\">\n",
              "  <thead>\n",
              "    <tr style=\"text-align: right;\">\n",
              "      <th></th>\n",
              "      <th>id</th>\n",
              "      <th>title</th>\n",
              "      <th>group</th>\n",
              "      <th>salesrank</th>\n",
              "      <th>review_cnt</th>\n",
              "      <th>downloads</th>\n",
              "      <th>rating</th>\n",
              "    </tr>\n",
              "  </thead>\n",
              "  <tbody>\n",
              "    <tr>\n",
              "      <th>0</th>\n",
              "      <td>1</td>\n",
              "      <td>Patterns of Preaching: A Sermon Sampler</td>\n",
              "      <td>Book</td>\n",
              "      <td>396585.0</td>\n",
              "      <td>2</td>\n",
              "      <td>2</td>\n",
              "      <td>5.0</td>\n",
              "    </tr>\n",
              "    <tr>\n",
              "      <th>1</th>\n",
              "      <td>2</td>\n",
              "      <td>Candlemas: Feast of Flames</td>\n",
              "      <td>Book</td>\n",
              "      <td>168596.0</td>\n",
              "      <td>12</td>\n",
              "      <td>12</td>\n",
              "      <td>4.5</td>\n",
              "    </tr>\n",
              "    <tr>\n",
              "      <th>2</th>\n",
              "      <td>3</td>\n",
              "      <td>World War II Allied Fighter Planes Trading Cards</td>\n",
              "      <td>Book</td>\n",
              "      <td>1270652.0</td>\n",
              "      <td>1</td>\n",
              "      <td>1</td>\n",
              "      <td>5.0</td>\n",
              "    </tr>\n",
              "    <tr>\n",
              "      <th>3</th>\n",
              "      <td>4</td>\n",
              "      <td>Life Application Bible Commentary: 1 and 2 Tim...</td>\n",
              "      <td>Book</td>\n",
              "      <td>631289.0</td>\n",
              "      <td>1</td>\n",
              "      <td>1</td>\n",
              "      <td>4.0</td>\n",
              "    </tr>\n",
              "    <tr>\n",
              "      <th>4</th>\n",
              "      <td>5</td>\n",
              "      <td>Prayers That Avail Much for Business: Executive</td>\n",
              "      <td>Book</td>\n",
              "      <td>455160.0</td>\n",
              "      <td>0</td>\n",
              "      <td>0</td>\n",
              "      <td>0.0</td>\n",
              "    </tr>\n",
              "  </tbody>\n",
              "</table>\n",
              "</div>\n",
              "    <div class=\"colab-df-buttons\">\n",
              "\n",
              "  <div class=\"colab-df-container\">\n",
              "    <button class=\"colab-df-convert\" onclick=\"convertToInteractive('df-48cdd597-01e9-4a6b-821a-028bc58caec3')\"\n",
              "            title=\"Convert this dataframe to an interactive table.\"\n",
              "            style=\"display:none;\">\n",
              "\n",
              "  <svg xmlns=\"http://www.w3.org/2000/svg\" height=\"24px\" viewBox=\"0 -960 960 960\">\n",
              "    <path d=\"M120-120v-720h720v720H120Zm60-500h600v-160H180v160Zm220 220h160v-160H400v160Zm0 220h160v-160H400v160ZM180-400h160v-160H180v160Zm440 0h160v-160H620v160ZM180-180h160v-160H180v160Zm440 0h160v-160H620v160Z\"/>\n",
              "  </svg>\n",
              "    </button>\n",
              "\n",
              "  <style>\n",
              "    .colab-df-container {\n",
              "      display:flex;\n",
              "      gap: 12px;\n",
              "    }\n",
              "\n",
              "    .colab-df-convert {\n",
              "      background-color: #E8F0FE;\n",
              "      border: none;\n",
              "      border-radius: 50%;\n",
              "      cursor: pointer;\n",
              "      display: none;\n",
              "      fill: #1967D2;\n",
              "      height: 32px;\n",
              "      padding: 0 0 0 0;\n",
              "      width: 32px;\n",
              "    }\n",
              "\n",
              "    .colab-df-convert:hover {\n",
              "      background-color: #E2EBFA;\n",
              "      box-shadow: 0px 1px 2px rgba(60, 64, 67, 0.3), 0px 1px 3px 1px rgba(60, 64, 67, 0.15);\n",
              "      fill: #174EA6;\n",
              "    }\n",
              "\n",
              "    .colab-df-buttons div {\n",
              "      margin-bottom: 4px;\n",
              "    }\n",
              "\n",
              "    [theme=dark] .colab-df-convert {\n",
              "      background-color: #3B4455;\n",
              "      fill: #D2E3FC;\n",
              "    }\n",
              "\n",
              "    [theme=dark] .colab-df-convert:hover {\n",
              "      background-color: #434B5C;\n",
              "      box-shadow: 0px 1px 3px 1px rgba(0, 0, 0, 0.15);\n",
              "      filter: drop-shadow(0px 1px 2px rgba(0, 0, 0, 0.3));\n",
              "      fill: #FFFFFF;\n",
              "    }\n",
              "  </style>\n",
              "\n",
              "    <script>\n",
              "      const buttonEl =\n",
              "        document.querySelector('#df-48cdd597-01e9-4a6b-821a-028bc58caec3 button.colab-df-convert');\n",
              "      buttonEl.style.display =\n",
              "        google.colab.kernel.accessAllowed ? 'block' : 'none';\n",
              "\n",
              "      async function convertToInteractive(key) {\n",
              "        const element = document.querySelector('#df-48cdd597-01e9-4a6b-821a-028bc58caec3');\n",
              "        const dataTable =\n",
              "          await google.colab.kernel.invokeFunction('convertToInteractive',\n",
              "                                                    [key], {});\n",
              "        if (!dataTable) return;\n",
              "\n",
              "        const docLinkHtml = 'Like what you see? Visit the ' +\n",
              "          '<a target=\"_blank\" href=https://colab.research.google.com/notebooks/data_table.ipynb>data table notebook</a>'\n",
              "          + ' to learn more about interactive tables.';\n",
              "        element.innerHTML = '';\n",
              "        dataTable['output_type'] = 'display_data';\n",
              "        await google.colab.output.renderOutput(dataTable, element);\n",
              "        const docLink = document.createElement('div');\n",
              "        docLink.innerHTML = docLinkHtml;\n",
              "        element.appendChild(docLink);\n",
              "      }\n",
              "    </script>\n",
              "  </div>\n",
              "\n",
              "\n",
              "<div id=\"df-4282c1dd-62ee-4ef9-a863-dcf1c2a6cbf0\">\n",
              "  <button class=\"colab-df-quickchart\" onclick=\"quickchart('df-4282c1dd-62ee-4ef9-a863-dcf1c2a6cbf0')\"\n",
              "            title=\"Suggest charts\"\n",
              "            style=\"display:none;\">\n",
              "\n",
              "<svg xmlns=\"http://www.w3.org/2000/svg\" height=\"24px\"viewBox=\"0 0 24 24\"\n",
              "     width=\"24px\">\n",
              "    <g>\n",
              "        <path d=\"M19 3H5c-1.1 0-2 .9-2 2v14c0 1.1.9 2 2 2h14c1.1 0 2-.9 2-2V5c0-1.1-.9-2-2-2zM9 17H7v-7h2v7zm4 0h-2V7h2v10zm4 0h-2v-4h2v4z\"/>\n",
              "    </g>\n",
              "</svg>\n",
              "  </button>\n",
              "\n",
              "<style>\n",
              "  .colab-df-quickchart {\n",
              "      --bg-color: #E8F0FE;\n",
              "      --fill-color: #1967D2;\n",
              "      --hover-bg-color: #E2EBFA;\n",
              "      --hover-fill-color: #174EA6;\n",
              "      --disabled-fill-color: #AAA;\n",
              "      --disabled-bg-color: #DDD;\n",
              "  }\n",
              "\n",
              "  [theme=dark] .colab-df-quickchart {\n",
              "      --bg-color: #3B4455;\n",
              "      --fill-color: #D2E3FC;\n",
              "      --hover-bg-color: #434B5C;\n",
              "      --hover-fill-color: #FFFFFF;\n",
              "      --disabled-bg-color: #3B4455;\n",
              "      --disabled-fill-color: #666;\n",
              "  }\n",
              "\n",
              "  .colab-df-quickchart {\n",
              "    background-color: var(--bg-color);\n",
              "    border: none;\n",
              "    border-radius: 50%;\n",
              "    cursor: pointer;\n",
              "    display: none;\n",
              "    fill: var(--fill-color);\n",
              "    height: 32px;\n",
              "    padding: 0;\n",
              "    width: 32px;\n",
              "  }\n",
              "\n",
              "  .colab-df-quickchart:hover {\n",
              "    background-color: var(--hover-bg-color);\n",
              "    box-shadow: 0 1px 2px rgba(60, 64, 67, 0.3), 0 1px 3px 1px rgba(60, 64, 67, 0.15);\n",
              "    fill: var(--button-hover-fill-color);\n",
              "  }\n",
              "\n",
              "  .colab-df-quickchart-complete:disabled,\n",
              "  .colab-df-quickchart-complete:disabled:hover {\n",
              "    background-color: var(--disabled-bg-color);\n",
              "    fill: var(--disabled-fill-color);\n",
              "    box-shadow: none;\n",
              "  }\n",
              "\n",
              "  .colab-df-spinner {\n",
              "    border: 2px solid var(--fill-color);\n",
              "    border-color: transparent;\n",
              "    border-bottom-color: var(--fill-color);\n",
              "    animation:\n",
              "      spin 1s steps(1) infinite;\n",
              "  }\n",
              "\n",
              "  @keyframes spin {\n",
              "    0% {\n",
              "      border-color: transparent;\n",
              "      border-bottom-color: var(--fill-color);\n",
              "      border-left-color: var(--fill-color);\n",
              "    }\n",
              "    20% {\n",
              "      border-color: transparent;\n",
              "      border-left-color: var(--fill-color);\n",
              "      border-top-color: var(--fill-color);\n",
              "    }\n",
              "    30% {\n",
              "      border-color: transparent;\n",
              "      border-left-color: var(--fill-color);\n",
              "      border-top-color: var(--fill-color);\n",
              "      border-right-color: var(--fill-color);\n",
              "    }\n",
              "    40% {\n",
              "      border-color: transparent;\n",
              "      border-right-color: var(--fill-color);\n",
              "      border-top-color: var(--fill-color);\n",
              "    }\n",
              "    60% {\n",
              "      border-color: transparent;\n",
              "      border-right-color: var(--fill-color);\n",
              "    }\n",
              "    80% {\n",
              "      border-color: transparent;\n",
              "      border-right-color: var(--fill-color);\n",
              "      border-bottom-color: var(--fill-color);\n",
              "    }\n",
              "    90% {\n",
              "      border-color: transparent;\n",
              "      border-bottom-color: var(--fill-color);\n",
              "    }\n",
              "  }\n",
              "</style>\n",
              "\n",
              "  <script>\n",
              "    async function quickchart(key) {\n",
              "      const quickchartButtonEl =\n",
              "        document.querySelector('#' + key + ' button');\n",
              "      quickchartButtonEl.disabled = true;  // To prevent multiple clicks.\n",
              "      quickchartButtonEl.classList.add('colab-df-spinner');\n",
              "      try {\n",
              "        const charts = await google.colab.kernel.invokeFunction(\n",
              "            'suggestCharts', [key], {});\n",
              "      } catch (error) {\n",
              "        console.error('Error during call to suggestCharts:', error);\n",
              "      }\n",
              "      quickchartButtonEl.classList.remove('colab-df-spinner');\n",
              "      quickchartButtonEl.classList.add('colab-df-quickchart-complete');\n",
              "    }\n",
              "    (() => {\n",
              "      let quickchartButtonEl =\n",
              "        document.querySelector('#df-4282c1dd-62ee-4ef9-a863-dcf1c2a6cbf0 button');\n",
              "      quickchartButtonEl.style.display =\n",
              "        google.colab.kernel.accessAllowed ? 'block' : 'none';\n",
              "    })();\n",
              "  </script>\n",
              "</div>\n",
              "\n",
              "    </div>\n",
              "  </div>\n"
            ],
            "text/plain": [
              "   id                                              title group  salesrank  \\\n",
              "0   1            Patterns of Preaching: A Sermon Sampler  Book   396585.0   \n",
              "1   2                         Candlemas: Feast of Flames  Book   168596.0   \n",
              "2   3   World War II Allied Fighter Planes Trading Cards  Book  1270652.0   \n",
              "3   4  Life Application Bible Commentary: 1 and 2 Tim...  Book   631289.0   \n",
              "4   5    Prayers That Avail Much for Business: Executive  Book   455160.0   \n",
              "\n",
              "   review_cnt  downloads  rating  \n",
              "0           2          2     5.0  \n",
              "1          12         12     4.5  \n",
              "2           1          1     5.0  \n",
              "3           1          1     4.0  \n",
              "4           0          0     0.0  "
            ]
          },
          "execution_count": 25,
          "metadata": {},
          "output_type": "execute_result"
        }
      ],
      "source": [
        "products.head()"
      ]
    },
    {
      "cell_type": "code",
      "execution_count": 26,
      "metadata": {
        "id": "QS2qgprabFMq"
      },
      "outputs": [],
      "source": [
        "products=products.values                                        #Converting to Numpy\n",
        "copurchase=copurchase.values"
      ]
    },
    {
      "cell_type": "markdown",
      "metadata": {},
      "source": [
        "### Following code block removes all relationships to products having ID greater than 87000. The purpose for doing this is to ensure there are less than 400k relationships only"
      ]
    },
    {
      "cell_type": "code",
      "execution_count": 27,
      "metadata": {
        "colab": {
          "base_uri": "https://localhost:8080/"
        },
        "id": "LrtC1urqbFMr",
        "outputId": "87c802e3-c84b-42cf-e3c2-2a4152e96d15"
      },
      "outputs": [
        {
          "name": "stdout",
          "output_type": "stream",
          "text": [
            "Co-purchase len : 417527\n",
            "385007\n"
          ]
        }
      ],
      "source": [
        "max_count=0\n",
        "max_row=87000\n",
        "copurchase=copurchase[:417526 + 1]\n",
        "arr=[]\n",
        "print(f\"Co-purchase len : {len(copurchase)}\")\n",
        "for i in range(len(copurchase)):\n",
        "        row=copurchase[i]\n",
        "        second=row[1]\n",
        "        if second>max_row:\n",
        "          arr.append(i)\n",
        "\n",
        "for i in range(len(arr)):\n",
        "  copurchase=np.delete(copurchase,arr[i]-i,axis=0)\n",
        "\n",
        "\n",
        "copurchase=copurchase[:-2]\n",
        "print(len(copurchase))"
      ]
    },
    {
      "cell_type": "code",
      "execution_count": 31,
      "metadata": {
        "colab": {
          "base_uri": "https://localhost:8080/"
        },
        "id": "hjQzKq-Codok",
        "outputId": "8b625317-f868-495c-90c6-dc9d825a2761"
      },
      "outputs": [
        {
          "name": "stdout",
          "output_type": "stream",
          "text": [
            "[]\n"
          ]
        }
      ],
      "source": [
        "arr=[]\n",
        "for i in range(len(copurchase)):                  ## Checks if there are any remaining relation with a node with ID>87000\n",
        "  second=copurchase[i][1]\n",
        "  if second>87000:\n",
        "    arr.append(i)\n",
        "print(arr)\n",
        "for num in range(len(arr)):\n",
        "  copurchase=np.delete(copurchase,i,axis=0)\n",
        "\n"
      ]
    },
    {
      "cell_type": "code",
      "execution_count": 32,
      "metadata": {
        "id": "xod4Q0ZhlqH8"
      },
      "outputs": [],
      "source": [
        "column_names = ['Source', 'Target']"
      ]
    },
    {
      "cell_type": "code",
      "execution_count": 33,
      "metadata": {
        "id": "rZ6i1NwUlf3V"
      },
      "outputs": [],
      "source": [
        "copurchase_new=pd.DataFrame(data=copurchase, columns=column_names)"
      ]
    },
    {
      "cell_type": "code",
      "execution_count": 34,
      "metadata": {
        "colab": {
          "base_uri": "https://localhost:8080/",
          "height": 206
        },
        "id": "KqcLoNJPl_Oy",
        "outputId": "4957c76f-ea14-4de2-951e-ec5107ddc1a5"
      },
      "outputs": [
        {
          "data": {
            "application/vnd.google.colaboratory.intrinsic+json": {
              "summary": "{\n  \"name\": \"copurchase_new\",\n  \"rows\": 5,\n  \"fields\": [\n    {\n      \"column\": \"Source\",\n      \"properties\": {\n        \"dtype\": \"number\",\n        \"std\": 0,\n        \"min\": 86999,\n        \"max\": 87000,\n        \"num_unique_values\": 2,\n        \"samples\": [\n          87000,\n          86999\n        ],\n        \"semantic_type\": \"\",\n        \"description\": \"\"\n      }\n    },\n    {\n      \"column\": \"Target\",\n      \"properties\": {\n        \"dtype\": \"number\",\n        \"std\": 23919,\n        \"min\": 19409,\n        \"max\": 73751,\n        \"num_unique_values\": 5,\n        \"samples\": [\n          19409,\n          73751\n        ],\n        \"semantic_type\": \"\",\n        \"description\": \"\"\n      }\n    }\n  ]\n}",
              "type": "dataframe"
            },
            "text/html": [
              "\n",
              "  <div id=\"df-9b08304f-a21a-49b0-b2fa-b2581883294f\" class=\"colab-df-container\">\n",
              "    <div>\n",
              "<style scoped>\n",
              "    .dataframe tbody tr th:only-of-type {\n",
              "        vertical-align: middle;\n",
              "    }\n",
              "\n",
              "    .dataframe tbody tr th {\n",
              "        vertical-align: top;\n",
              "    }\n",
              "\n",
              "    .dataframe thead th {\n",
              "        text-align: right;\n",
              "    }\n",
              "</style>\n",
              "<table border=\"1\" class=\"dataframe\">\n",
              "  <thead>\n",
              "    <tr style=\"text-align: right;\">\n",
              "      <th></th>\n",
              "      <th>Source</th>\n",
              "      <th>Target</th>\n",
              "    </tr>\n",
              "  </thead>\n",
              "  <tbody>\n",
              "    <tr>\n",
              "      <th>385000</th>\n",
              "      <td>86999</td>\n",
              "      <td>72804</td>\n",
              "    </tr>\n",
              "    <tr>\n",
              "      <th>385001</th>\n",
              "      <td>87000</td>\n",
              "      <td>19409</td>\n",
              "    </tr>\n",
              "    <tr>\n",
              "      <th>385002</th>\n",
              "      <td>87000</td>\n",
              "      <td>71044</td>\n",
              "    </tr>\n",
              "    <tr>\n",
              "      <th>385003</th>\n",
              "      <td>87000</td>\n",
              "      <td>73750</td>\n",
              "    </tr>\n",
              "    <tr>\n",
              "      <th>385004</th>\n",
              "      <td>87000</td>\n",
              "      <td>73751</td>\n",
              "    </tr>\n",
              "  </tbody>\n",
              "</table>\n",
              "</div>\n",
              "    <div class=\"colab-df-buttons\">\n",
              "\n",
              "  <div class=\"colab-df-container\">\n",
              "    <button class=\"colab-df-convert\" onclick=\"convertToInteractive('df-9b08304f-a21a-49b0-b2fa-b2581883294f')\"\n",
              "            title=\"Convert this dataframe to an interactive table.\"\n",
              "            style=\"display:none;\">\n",
              "\n",
              "  <svg xmlns=\"http://www.w3.org/2000/svg\" height=\"24px\" viewBox=\"0 -960 960 960\">\n",
              "    <path d=\"M120-120v-720h720v720H120Zm60-500h600v-160H180v160Zm220 220h160v-160H400v160Zm0 220h160v-160H400v160ZM180-400h160v-160H180v160Zm440 0h160v-160H620v160ZM180-180h160v-160H180v160Zm440 0h160v-160H620v160Z\"/>\n",
              "  </svg>\n",
              "    </button>\n",
              "\n",
              "  <style>\n",
              "    .colab-df-container {\n",
              "      display:flex;\n",
              "      gap: 12px;\n",
              "    }\n",
              "\n",
              "    .colab-df-convert {\n",
              "      background-color: #E8F0FE;\n",
              "      border: none;\n",
              "      border-radius: 50%;\n",
              "      cursor: pointer;\n",
              "      display: none;\n",
              "      fill: #1967D2;\n",
              "      height: 32px;\n",
              "      padding: 0 0 0 0;\n",
              "      width: 32px;\n",
              "    }\n",
              "\n",
              "    .colab-df-convert:hover {\n",
              "      background-color: #E2EBFA;\n",
              "      box-shadow: 0px 1px 2px rgba(60, 64, 67, 0.3), 0px 1px 3px 1px rgba(60, 64, 67, 0.15);\n",
              "      fill: #174EA6;\n",
              "    }\n",
              "\n",
              "    .colab-df-buttons div {\n",
              "      margin-bottom: 4px;\n",
              "    }\n",
              "\n",
              "    [theme=dark] .colab-df-convert {\n",
              "      background-color: #3B4455;\n",
              "      fill: #D2E3FC;\n",
              "    }\n",
              "\n",
              "    [theme=dark] .colab-df-convert:hover {\n",
              "      background-color: #434B5C;\n",
              "      box-shadow: 0px 1px 3px 1px rgba(0, 0, 0, 0.15);\n",
              "      filter: drop-shadow(0px 1px 2px rgba(0, 0, 0, 0.3));\n",
              "      fill: #FFFFFF;\n",
              "    }\n",
              "  </style>\n",
              "\n",
              "    <script>\n",
              "      const buttonEl =\n",
              "        document.querySelector('#df-9b08304f-a21a-49b0-b2fa-b2581883294f button.colab-df-convert');\n",
              "      buttonEl.style.display =\n",
              "        google.colab.kernel.accessAllowed ? 'block' : 'none';\n",
              "\n",
              "      async function convertToInteractive(key) {\n",
              "        const element = document.querySelector('#df-9b08304f-a21a-49b0-b2fa-b2581883294f');\n",
              "        const dataTable =\n",
              "          await google.colab.kernel.invokeFunction('convertToInteractive',\n",
              "                                                    [key], {});\n",
              "        if (!dataTable) return;\n",
              "\n",
              "        const docLinkHtml = 'Like what you see? Visit the ' +\n",
              "          '<a target=\"_blank\" href=https://colab.research.google.com/notebooks/data_table.ipynb>data table notebook</a>'\n",
              "          + ' to learn more about interactive tables.';\n",
              "        element.innerHTML = '';\n",
              "        dataTable['output_type'] = 'display_data';\n",
              "        await google.colab.output.renderOutput(dataTable, element);\n",
              "        const docLink = document.createElement('div');\n",
              "        docLink.innerHTML = docLinkHtml;\n",
              "        element.appendChild(docLink);\n",
              "      }\n",
              "    </script>\n",
              "  </div>\n",
              "\n",
              "\n",
              "<div id=\"df-ba94e3ff-deff-42a1-974f-595f97dd7397\">\n",
              "  <button class=\"colab-df-quickchart\" onclick=\"quickchart('df-ba94e3ff-deff-42a1-974f-595f97dd7397')\"\n",
              "            title=\"Suggest charts\"\n",
              "            style=\"display:none;\">\n",
              "\n",
              "<svg xmlns=\"http://www.w3.org/2000/svg\" height=\"24px\"viewBox=\"0 0 24 24\"\n",
              "     width=\"24px\">\n",
              "    <g>\n",
              "        <path d=\"M19 3H5c-1.1 0-2 .9-2 2v14c0 1.1.9 2 2 2h14c1.1 0 2-.9 2-2V5c0-1.1-.9-2-2-2zM9 17H7v-7h2v7zm4 0h-2V7h2v10zm4 0h-2v-4h2v4z\"/>\n",
              "    </g>\n",
              "</svg>\n",
              "  </button>\n",
              "\n",
              "<style>\n",
              "  .colab-df-quickchart {\n",
              "      --bg-color: #E8F0FE;\n",
              "      --fill-color: #1967D2;\n",
              "      --hover-bg-color: #E2EBFA;\n",
              "      --hover-fill-color: #174EA6;\n",
              "      --disabled-fill-color: #AAA;\n",
              "      --disabled-bg-color: #DDD;\n",
              "  }\n",
              "\n",
              "  [theme=dark] .colab-df-quickchart {\n",
              "      --bg-color: #3B4455;\n",
              "      --fill-color: #D2E3FC;\n",
              "      --hover-bg-color: #434B5C;\n",
              "      --hover-fill-color: #FFFFFF;\n",
              "      --disabled-bg-color: #3B4455;\n",
              "      --disabled-fill-color: #666;\n",
              "  }\n",
              "\n",
              "  .colab-df-quickchart {\n",
              "    background-color: var(--bg-color);\n",
              "    border: none;\n",
              "    border-radius: 50%;\n",
              "    cursor: pointer;\n",
              "    display: none;\n",
              "    fill: var(--fill-color);\n",
              "    height: 32px;\n",
              "    padding: 0;\n",
              "    width: 32px;\n",
              "  }\n",
              "\n",
              "  .colab-df-quickchart:hover {\n",
              "    background-color: var(--hover-bg-color);\n",
              "    box-shadow: 0 1px 2px rgba(60, 64, 67, 0.3), 0 1px 3px 1px rgba(60, 64, 67, 0.15);\n",
              "    fill: var(--button-hover-fill-color);\n",
              "  }\n",
              "\n",
              "  .colab-df-quickchart-complete:disabled,\n",
              "  .colab-df-quickchart-complete:disabled:hover {\n",
              "    background-color: var(--disabled-bg-color);\n",
              "    fill: var(--disabled-fill-color);\n",
              "    box-shadow: none;\n",
              "  }\n",
              "\n",
              "  .colab-df-spinner {\n",
              "    border: 2px solid var(--fill-color);\n",
              "    border-color: transparent;\n",
              "    border-bottom-color: var(--fill-color);\n",
              "    animation:\n",
              "      spin 1s steps(1) infinite;\n",
              "  }\n",
              "\n",
              "  @keyframes spin {\n",
              "    0% {\n",
              "      border-color: transparent;\n",
              "      border-bottom-color: var(--fill-color);\n",
              "      border-left-color: var(--fill-color);\n",
              "    }\n",
              "    20% {\n",
              "      border-color: transparent;\n",
              "      border-left-color: var(--fill-color);\n",
              "      border-top-color: var(--fill-color);\n",
              "    }\n",
              "    30% {\n",
              "      border-color: transparent;\n",
              "      border-left-color: var(--fill-color);\n",
              "      border-top-color: var(--fill-color);\n",
              "      border-right-color: var(--fill-color);\n",
              "    }\n",
              "    40% {\n",
              "      border-color: transparent;\n",
              "      border-right-color: var(--fill-color);\n",
              "      border-top-color: var(--fill-color);\n",
              "    }\n",
              "    60% {\n",
              "      border-color: transparent;\n",
              "      border-right-color: var(--fill-color);\n",
              "    }\n",
              "    80% {\n",
              "      border-color: transparent;\n",
              "      border-right-color: var(--fill-color);\n",
              "      border-bottom-color: var(--fill-color);\n",
              "    }\n",
              "    90% {\n",
              "      border-color: transparent;\n",
              "      border-bottom-color: var(--fill-color);\n",
              "    }\n",
              "  }\n",
              "</style>\n",
              "\n",
              "  <script>\n",
              "    async function quickchart(key) {\n",
              "      const quickchartButtonEl =\n",
              "        document.querySelector('#' + key + ' button');\n",
              "      quickchartButtonEl.disabled = true;  // To prevent multiple clicks.\n",
              "      quickchartButtonEl.classList.add('colab-df-spinner');\n",
              "      try {\n",
              "        const charts = await google.colab.kernel.invokeFunction(\n",
              "            'suggestCharts', [key], {});\n",
              "      } catch (error) {\n",
              "        console.error('Error during call to suggestCharts:', error);\n",
              "      }\n",
              "      quickchartButtonEl.classList.remove('colab-df-spinner');\n",
              "      quickchartButtonEl.classList.add('colab-df-quickchart-complete');\n",
              "    }\n",
              "    (() => {\n",
              "      let quickchartButtonEl =\n",
              "        document.querySelector('#df-ba94e3ff-deff-42a1-974f-595f97dd7397 button');\n",
              "      quickchartButtonEl.style.display =\n",
              "        google.colab.kernel.accessAllowed ? 'block' : 'none';\n",
              "    })();\n",
              "  </script>\n",
              "</div>\n",
              "\n",
              "    </div>\n",
              "  </div>\n"
            ],
            "text/plain": [
              "        Source  Target\n",
              "385000   86999   72804\n",
              "385001   87000   19409\n",
              "385002   87000   71044\n",
              "385003   87000   73750\n",
              "385004   87000   73751"
            ]
          },
          "execution_count": 34,
          "metadata": {},
          "output_type": "execute_result"
        }
      ],
      "source": [
        "copurchase_new.tail()"
      ]
    },
    {
      "cell_type": "code",
      "execution_count": 37,
      "metadata": {
        "id": "ZpkYZk6xmyP4"
      },
      "outputs": [],
      "source": [
        "# prompt: how to create csv file with pandas dataframe and save it\n",
        "\n",
        "copurchase_new.to_csv('../Data/copurchase_new.csv', index=False)\n"
      ]
    },
    {
      "cell_type": "code",
      "execution_count": 38,
      "metadata": {
        "id": "iyYy_B9HuMz4"
      },
      "outputs": [],
      "source": [
        "products=products[:87002]"
      ]
    },
    {
      "cell_type": "code",
      "execution_count": 39,
      "metadata": {
        "colab": {
          "base_uri": "https://localhost:8080/"
        },
        "id": "Edtjt19PvdQj",
        "outputId": "1ec96ef3-5325-4d6b-d163-700c373e34c7"
      },
      "outputs": [
        {
          "data": {
            "text/plain": [
              "array([87929, 'Baton Rouge', 'Music', 154280.0, 4, 4, 5.0], dtype=object)"
            ]
          },
          "execution_count": 39,
          "metadata": {},
          "output_type": "execute_result"
        }
      ],
      "source": [
        "products[-1]"
      ]
    },
    {
      "cell_type": "code",
      "execution_count": 40,
      "metadata": {
        "colab": {
          "base_uri": "https://localhost:8080/"
        },
        "id": "imsdwLwe1QnZ",
        "outputId": "6c041874-8d20-4205-8a9b-62c76ab55489"
      },
      "outputs": [
        {
          "name": "stdout",
          "output_type": "stream",
          "text": [
            "86086\n"
          ]
        }
      ],
      "source": [
        "index=0\n",
        "for i in range(len(products)):\n",
        "  if products[i][0]==87000:\n",
        "    index=i\n",
        "print(index)"
      ]
    },
    {
      "cell_type": "code",
      "execution_count": 43,
      "metadata": {
        "id": "vbFywBk21mRf"
      },
      "outputs": [],
      "source": [
        "products=products[:86087]"
      ]
    },
    {
      "cell_type": "code",
      "execution_count": 44,
      "metadata": {
        "id": "V850YEn11wxA"
      },
      "outputs": [],
      "source": [
        "column_arr=[\"id\",\"title\",\"group\",\"salesrank\",\"review_cnt\",\"downloads\",\"rating\"]"
      ]
    },
    {
      "cell_type": "code",
      "execution_count": 46,
      "metadata": {
        "id": "0eXCivAi2KlS"
      },
      "outputs": [],
      "source": [
        "products=pd.DataFrame(data=products, columns=column_arr)"
      ]
    },
    {
      "cell_type": "code",
      "execution_count": 48,
      "metadata": {
        "id": "G14l-IT12AxY"
      },
      "outputs": [],
      "source": [
        "products.to_csv('../Data/product_new.csv', index=False)\n"
      ]
    },
    {
      "cell_type": "markdown",
      "metadata": {
        "id": "vT5O5W6D16Vg"
      },
      "source": []
    }
  ],
  "metadata": {
    "accelerator": "GPU",
    "colab": {
      "gpuType": "T4",
      "provenance": []
    },
    "kernelspec": {
      "display_name": "Python 3",
      "name": "python3"
    },
    "language_info": {
      "codemirror_mode": {
        "name": "ipython",
        "version": 3
      },
      "file_extension": ".py",
      "mimetype": "text/x-python",
      "name": "python",
      "nbconvert_exporter": "python",
      "pygments_lexer": "ipython3",
      "version": "3.11.5"
    }
  },
  "nbformat": 4,
  "nbformat_minor": 0
}
